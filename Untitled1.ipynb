{
 "cells": [
  {
   "cell_type": "code",
   "execution_count": 12,
   "metadata": {
    "collapsed": false
   },
   "outputs": [
    {
     "name": "stdout",
     "output_type": "stream",
     "text": [
      "1\n",
      "2\n",
      "Fizz\n",
      "4\n",
      "Buzz\n",
      "Fizz\n",
      "7\n",
      "8\n",
      "Fizz\n",
      "Buzz\n",
      "11\n",
      "Fizz\n",
      "13\n",
      "14\n",
      "FizzBuzz\n",
      "16\n",
      "17\n",
      "Fizz\n",
      "19\n",
      "Buzz\n",
      "Fizz\n",
      "22\n",
      "23\n",
      "Fizz\n",
      "Buzz\n",
      "26\n",
      "Fizz\n",
      "28\n",
      "29\n",
      "FizzBuzz\n",
      "31\n",
      "32\n",
      "Fizz\n",
      "34\n",
      "Buzz\n",
      "Fizz\n",
      "37\n",
      "38\n",
      "Fizz\n",
      "Buzz\n",
      "41\n",
      "Fizz\n",
      "43\n",
      "44\n",
      "FizzBuzz\n",
      "46\n",
      "47\n",
      "Fizz\n",
      "49\n",
      "Buzz\n",
      "Fizz\n",
      "52\n",
      "53\n",
      "Fizz\n",
      "Buzz\n",
      "56\n",
      "Fizz\n",
      "58\n",
      "59\n",
      "FizzBuzz\n",
      "61\n",
      "62\n",
      "Fizz\n",
      "64\n",
      "Buzz\n",
      "Fizz\n",
      "67\n",
      "68\n",
      "Fizz\n",
      "Buzz\n",
      "71\n",
      "Fizz\n",
      "73\n",
      "74\n",
      "FizzBuzz\n",
      "76\n",
      "77\n",
      "Fizz\n",
      "79\n",
      "Buzz\n",
      "Fizz\n",
      "82\n",
      "83\n",
      "Fizz\n",
      "Buzz\n",
      "86\n",
      "Fizz\n",
      "88\n",
      "89\n",
      "FizzBuzz\n",
      "91\n",
      "92\n",
      "Fizz\n",
      "94\n",
      "Buzz\n",
      "Fizz\n",
      "97\n",
      "98\n",
      "Fizz\n",
      "Buzz\n"
     ]
    }
   ],
   "source": [
    "f=0\n",
    "for i in range (1, 101):\n",
    "    if i%3==0:\n",
    "        if i%5==0:\n",
    "            print 'FizzBuzz'\n",
    "        else:\n",
    "            print 'Fizz'\n",
    "        f=1\n",
    "    elif i%5==0:\n",
    "        if i%3==0:\n",
    "            print 'FizzBuzz'\n",
    "        else:\n",
    "            print 'Buzz'\n",
    "        f=1\n",
    "    if f==0:\n",
    "        print i\n",
    "    f=0"
   ]
  },
  {
   "cell_type": "code",
   "execution_count": 16,
   "metadata": {
    "collapsed": false
   },
   "outputs": [
    {
     "name": "stdout",
     "output_type": "stream",
     "text": [
      "573147844013817084101\n"
     ]
    }
   ],
   "source": [
    "a=0\n",
    "x=1\n",
    "for i in range (100):\n",
    "    c=x\n",
    "    x=x+a\n",
    "    a=c\n",
    "print (x)"
   ]
  },
  {
   "cell_type": "code",
   "execution_count": 13,
   "metadata": {
    "collapsed": false
   },
   "outputs": [
    {
     "name": "stdout",
     "output_type": "stream",
     "text": [
      "2\n",
      "3\n",
      "2\n",
      "The slowest run took 13.46 times longer than the fastest. This could mean that an intermediate result is being cached.\n",
      "1000000 loops, best of 3: 1.63 µs per loop\n",
      "The slowest run took 5.14 times longer than the fastest. This could mean that an intermediate result is being cached.\n",
      "1000000 loops, best of 3: 1.58 µs per loop\n",
      "The slowest run took 6633.00 times longer than the fastest. This could mean that an intermediate result is being cached.\n",
      "100000 loops, best of 3: 15.1 µs per loop\n"
     ]
    }
   ],
   "source": [
    "import math\n",
    "import numpy\n",
    "def linspace1( a, b, n) :\n",
    "\tl=[]\n",
    "\tstep=(b-a)/(n-1)\n",
    "\tfor i in range (n):\n",
    "\t\tl.append(a)\n",
    "\t\tc=a\n",
    "\t\ta=a+step\n",
    "\treturn l\n",
    "\t\n",
    "l=[]\n",
    "a=float(input())\n",
    "b=float(input())\n",
    "n=int(input())\n",
    "%timeit l=linspace1(a, b, n)\n",
    "%timeit l=[a+(b-a)/(n-1)*i for i in range(n)]\n",
    "%timeit  l=numpy.linspace(a, b, (b-a)/(n-1))\n"
   ]
  },
  {
   "cell_type": "code",
   "execution_count": 14,
   "metadata": {
    "collapsed": false
   },
   "outputs": [],
   "source": []
  },
  {
   "cell_type": "code",
   "execution_count": 25,
   "metadata": {
    "collapsed": false
   },
   "outputs": [
    {
     "name": "stdout",
     "output_type": "stream",
     "text": [
      "Populating the interactive namespace from numpy and matplotlib\n"
     ]
    },
    {
     "data": {
      "image/png": "iVBORw0KGgoAAAANSUhEUgAAAiAAAAF5CAYAAACm4JG+AAAABHNCSVQICAgIfAhkiAAAAAlwSFlz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\nlAYYmWp2WpMAAAAASUVORK5CYII=\n",
      "text/plain": [
       "<matplotlib.figure.Figure at 0x7f16795a1cd0>"
      ]
     },
     "metadata": {},
     "output_type": "display_data"
    }
   ],
   "source": [
    "import matplotlib\n",
    "%pylab inline\n",
    "import math\n",
    "xmin = 0.1\n",
    "xmax = 10.0\n",
    "dx = 0.01\n",
    "xlist = mlab.frange (xmin, xmax, dx)\n",
    "ylist1 = [math.sqrt(x) for x in xlist]\n",
    "ylist2 = [x+1 for x in xlist]\n",
    "ylist3 = [math.cos(x) for x in xlist]\n",
    "pylab.subplot (121)\n",
    "pylab.plot (xlist, ylist1)\n",
    "pylab.plot (xlist, ylist2)\n",
    "pylab.plot (xlist, ylist3)\n",
    "plt.xlabel(r'$x$')\n",
    "plt.ylabel(r'$f(x)$') \n",
    "pylab.legend ( (\"sqrt(x)\", \"log2(x)\", \"cos(x)\") )\n",
    "ylist2 = [x*0.5 for x in xlist]\n",
    "ylist3 = [math.sin(x) for x in xlist]\n",
    "pylab.subplot (122)\n",
    "pylab.plot (xlist, ylist2)\n",
    "pylab.plot (xlist, ylist3)\n",
    "pylab.savefig('rezult.png', format='png', dpi=100)\n",
    "pylab.show()\n"
   ]
  },
  {
   "cell_type": "code",
   "execution_count": 7,
   "metadata": {
    "collapsed": false
   },
   "outputs": [
    {
     "name": "stdout",
     "output_type": "stream",
     "text": [
      "(array([-2.16902313+0.j        ,  1.00267823+0.69771229j,\n",
      "        1.00267823-0.69771229j,  1.33571261+0.j        ,  0.29569263+0.j        ]), array([[-0.56387014+0.j        ,  0.61787292+0.j        ,\n",
      "         0.61787292-0.j        ,  0.55496426+0.j        ,  0.75294727+0.j        ],\n",
      "       [ 0.36398330+0.j        , -0.14857624+0.01307798j,\n",
      "        -0.14857624-0.01307798j, -0.61296618+0.j        , -0.28930255+0.j        ],\n",
      "       [ 0.35940286+0.j        ,  0.19899428-0.54495606j,\n",
      "         0.19899428+0.54495606j,  0.11218457+0.j        , -0.18482569+0.j        ],\n",
      "       [ 0.49827274+0.j        ,  0.10618469+0.37544263j,\n",
      "         0.10618469-0.37544263j,  0.16731394+0.j        ,  0.41206519+0.j        ],\n",
      "       [-0.41487405+0.j        , -0.23142464+0.2315633j ,\n",
      "        -0.23142464-0.2315633j , -0.52507885+0.j        ,  0.38133475+0.j        ]]))\n"
     ]
    }
   ],
   "source": [
    "import scipy\n",
    "import numpy.linalg\n",
    "import numpy as np\n",
    "a=np.random.randn(5, 5)\n",
    "print np.linalg.eig(a)"
   ]
  },
  {
   "cell_type": "code",
   "execution_count": null,
   "metadata": {
    "collapsed": true
   },
   "outputs": [],
   "source": []
  }
 ],
 "metadata": {
  "anaconda-cloud": {},
  "kernelspec": {
   "display_name": "Python [conda root]",
   "language": "python",
   "name": "conda-root-py"
  },
  "language_info": {
   "codemirror_mode": {
    "name": "ipython",
    "version": 2
   },
   "file_extension": ".py",
   "mimetype": "text/x-python",
   "name": "python",
   "nbconvert_exporter": "python",
   "pygments_lexer": "ipython2",
   "version": "2.7.12"
  }
 },
 "nbformat": 4,
 "nbformat_minor": 1
}
# Data_maning_in_action_Homework
# Data_maning_in_action_Homework
