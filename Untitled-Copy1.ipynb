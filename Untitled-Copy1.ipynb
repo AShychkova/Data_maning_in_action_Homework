{
 "cells": [
  {
   "cell_type": "code",
   "execution_count": 4,
   "metadata": {
    "collapsed": false
   },
   "outputs": [
    {
     "name": "stdout",
     "output_type": "stream",
     "text": [
      "1\n",
      "2\n",
      "Fizz\n",
      "4\n",
      "Buzz\n",
      "Fizz\n",
      "7\n",
      "8\n",
      "Fizz\n",
      "Buzz\n",
      "11\n",
      "Fizz\n",
      "13\n",
      "14\n",
      "FizzBuzz\n",
      "16\n",
      "17\n",
      "Fizz\n",
      "19\n",
      "Buzz\n",
      "Fizz\n",
      "22\n",
      "23\n",
      "Fizz\n",
      "Buzz\n",
      "26\n",
      "Fizz\n",
      "28\n",
      "29\n",
      "FizzBuzz\n",
      "31\n",
      "32\n",
      "Fizz\n",
      "34\n",
      "Buzz\n",
      "Fizz\n",
      "37\n",
      "38\n",
      "Fizz\n",
      "Buzz\n",
      "41\n",
      "Fizz\n",
      "43\n",
      "44\n",
      "FizzBuzz\n",
      "46\n",
      "47\n",
      "Fizz\n",
      "49\n",
      "Buzz\n",
      "Fizz\n",
      "52\n",
      "53\n",
      "Fizz\n",
      "Buzz\n",
      "56\n",
      "Fizz\n",
      "58\n",
      "59\n",
      "FizzBuzz\n",
      "61\n",
      "62\n",
      "Fizz\n",
      "64\n",
      "Buzz\n",
      "Fizz\n",
      "67\n",
      "68\n",
      "Fizz\n",
      "Buzz\n",
      "71\n",
      "Fizz\n",
      "73\n",
      "74\n",
      "FizzBuzz\n",
      "76\n",
      "77\n",
      "Fizz\n",
      "79\n",
      "Buzz\n",
      "Fizz\n",
      "82\n",
      "83\n",
      "Fizz\n",
      "Buzz\n",
      "86\n",
      "Fizz\n",
      "88\n",
      "89\n",
      "FizzBuzz\n",
      "91\n",
      "92\n",
      "Fizz\n",
      "94\n",
      "Buzz\n",
      "Fizz\n",
      "97\n",
      "98\n",
      "Fizz\n",
      "Buzz\n"
     ]
    }
   ],
   "source": [
    "f=0\n",
    "for i in range (1, 101):\n",
    "    if i%3==0:\n",
    "        if i%5==0:\n",
    "            print 'FizzBuzz'\n",
    "        else:\n",
    "            print 'Fizz'\n",
    "        f=1\n",
    "    elif i%5==0:\n",
    "        if i%3==0:\n",
    "            print 'FizzBuzz'\n",
    "        else:\n",
    "            print 'Buzz'\n",
    "        f=1\n",
    "    if f==0:\n",
    "        print i\n",
    "    f=0"
   ]
  },
  {
   "cell_type": "code",
   "execution_count": 5,
   "metadata": {
    "collapsed": false
   },
   "outputs": [
    {
     "name": "stdout",
     "output_type": "stream",
     "text": [
      "573147844013817084101\n"
     ]
    }
   ],
   "source": [
    "a=0\n",
    "x=1\n",
    "for i in range (100):\n",
    "    c=x\n",
    "    x=x+a\n",
    "    a=c\n",
    "print (x)\n"
   ]
  },
  {
   "cell_type": "code",
   "execution_count": 7,
   "metadata": {
    "collapsed": false
   },
   "outputs": [
    {
     "name": "stdout",
     "output_type": "stream",
     "text": [
      "2\n",
      "4\n",
      "3\n",
      "The slowest run took 22.45 times longer than the fastest. This could mean that an intermediate result is being cached.\n",
      "100000 loops, best of 3: 1.87 µs per loop\n",
      "100000 loops, best of 3: 2.22 µs per loop\n",
      "The slowest run took 4.74 times longer than the fastest. This could mean that an intermediate result is being cached.\n",
      "100000 loops, best of 3: 15.6 µs per loop\n"
     ]
    }
   ],
   "source": [
    "\n",
    "import math\n",
    "import numpy\n",
    "def linspace1( a, b, n) :\n",
    "    l=[]\n",
    "    step=(b-a)/(n-1)\n",
    "    for i in range (n):\n",
    "        l.append(a)\n",
    "        c=a\n",
    "        a=a+step\n",
    "    return l\n",
    "\n",
    "l=[]\n",
    "a=float(input())\n",
    "b=float(input())\n",
    "n=int(input())\n",
    "%timeit l=linspace1(a, b, n)\n",
    "%timeit l=[a+(b-a)/(n-1)*i for i in range(n)]\n",
    "%timeit  l=numpy.linspace(a, b, (b-a)/(n-1))"
   ]
  },
  {
   "cell_type": "code",
   "execution_count": 17,
   "metadata": {
    "collapsed": false
   },
   "outputs": [
    {
     "name": "stdout",
     "output_type": "stream",
     "text": [
      "Populating the interactive namespace from numpy and matplotlib\n"
     ]
    },
    {
     "data": {
      "image/png": "[encoded data removed]",
      "text/plain": [
       "<matplotlib.figure.Figure at 0x7eff01b40790>"
      ]
     },
     "metadata": {},
     "output_type": "display_data"
    }
   ],
   "source": [
    "\n",
    "%pylab inline\n",
    "import math\n",
    "xmin = 0.1\n",
    "xmax = 10.0\n",
    "dx = 0.01\n",
    "xlist = mlab.frange (xmin, xmax, dx)\n",
    "ylist1 = [math.sqrt(x) for x in xlist]\n",
    "ylist2 = [x+1 for x in xlist]\n",
    "ylist3 = [math.cos(x) for x in xlist]\n",
    "pylab.subplot (121)\n",
    "pylab.plot (xlist, ylist1)\n",
    "pylab.plot (xlist, ylist2)\n",
    "pylab.plot (xlist, ylist3)\n",
    "plt.xlabel('x')\n",
    "plt.ylabel('f(x)') \n",
    "pylab.legend ( ('sqrt(x)', 'log2(x)', 'cos(x)') )\n",
    "ylist2 = [x*0.5 for x in xlist]\n",
    "ylist3 = [math.sin(x) for x in xlist]\n",
    "pylab.subplot (122)\n",
    "pylab.plot (xlist, ylist2)\n",
    "pylab.plot (xlist, ylist3)\n",
    "pylab.savefig('rezult.png', format='png', dpi=100)\n",
    "pylab.show()"
   ]
  },
  {
   "cell_type": "code",
   "execution_count": 11,
   "metadata": {
    "collapsed": false
   },
   "outputs": [
    {
     "name": "stdout",
     "output_type": "stream",
     "text": [
      "(array([-0.40313424+1.47902702j, -0.40313424-1.47902702j,\n",
      "        0.10170890+1.58511257j,  0.10170890-1.58511257j,  1.78826135+0.j        ]), array([[ 0.27187810-0.25795155j,  0.27187810+0.25795155j,\n",
      "        -0.17130273+0.09421005j, -0.17130273-0.09421005j,  0.13087996+0.j        ],\n",
      "       [-0.19622180+0.01400941j, -0.19622180-0.01400941j,\n",
      "         0.12454363-0.09268993j,  0.12454363+0.09268993j, -0.49386961+0.j        ],\n",
      "       [-0.76237081+0.j        , -0.76237081-0.j        ,\n",
      "         0.74558344+0.j        ,  0.74558344-0.j        , -0.12099476+0.j        ],\n",
      "       [ 0.26896988+0.31340841j,  0.26896988-0.31340841j,\n",
      "        -0.19000910-0.3656155j , -0.19000910+0.3656155j ,  0.13066736+0.j        ],\n",
      "       [ 0.10841733+0.23939685j,  0.10841733-0.23939685j,\n",
      "        -0.16840982-0.42853542j, -0.16840982+0.42853542j,  0.84098130+0.j        ]]))\n"
     ]
    }
   ],
   "source": [
    "import scipy\n",
    "import numpy.linalg\n",
    "import numpy as np\n",
    "a=np.random.randn(5, 5)\n",
    "print np.linalg.eig(a)"
   ]
  },
  {
   "cell_type": "code",
   "execution_count": null,
   "metadata": {
    "collapsed": true
   },
   "outputs": [],
   "source": []
  }
 ],
 "metadata": {
  "anaconda-cloud": {},
  "kernelspec": {
   "display_name": "Python [conda root]",
   "language": "python",
   "name": "conda-root-py"
  },
  "language_info": {
   "codemirror_mode": {
    "name": "ipython",
    "version": 2
   },
   "file_extension": ".py",
   "mimetype": "text/x-python",
   "name": "python",
   "nbconvert_exporter": "python",
   "pygments_lexer": "ipython2",
   "version": "2.7.12"
  }
 },
 "nbformat": 4,
 "nbformat_minor": 1
}
